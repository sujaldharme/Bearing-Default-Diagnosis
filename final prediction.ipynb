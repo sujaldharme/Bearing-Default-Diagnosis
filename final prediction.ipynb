{
 "cells": [
  {
   "cell_type": "code",
   "execution_count": 10,
   "id": "78ad2241",
   "metadata": {},
   "outputs": [],
   "source": [
    "import matplotlib.pyplot as plt\n",
    "import scipy.io\n",
    "import numpy as np\n",
    "import pandas as pd\n",
    "import os\n",
    "import seaborn as sns# for ploting \n",
    "from sklearn.model_selection import train_test_split #for spliting \n",
    "from sklearn.ensemble import RandomForestClassifier#for algorithem\n",
    "from sklearn.metrics import accuracy_score#for checking accuracy"
   ]
  },
  {
   "cell_type": "code",
   "execution_count": 3,
   "id": "a22fedbb",
   "metadata": {},
   "outputs": [
    {
     "data": {
      "text/html": [
       "<div>\n",
       "<style scoped>\n",
       "    .dataframe tbody tr th:only-of-type {\n",
       "        vertical-align: middle;\n",
       "    }\n",
       "\n",
       "    .dataframe tbody tr th {\n",
       "        vertical-align: top;\n",
       "    }\n",
       "\n",
       "    .dataframe thead th {\n",
       "        text-align: right;\n",
       "    }\n",
       "</style>\n",
       "<table border=\"1\" class=\"dataframe\">\n",
       "  <thead>\n",
       "    <tr style=\"text-align: right;\">\n",
       "      <th></th>\n",
       "      <th>Max</th>\n",
       "      <th>Min</th>\n",
       "      <th>Mean</th>\n",
       "      <th>Std</th>\n",
       "      <th>RMS</th>\n",
       "      <th>Skewness</th>\n",
       "      <th>Kurtosis</th>\n",
       "      <th>Crest Factor</th>\n",
       "      <th>Form Factor</th>\n",
       "      <th>Fault</th>\n",
       "    </tr>\n",
       "  </thead>\n",
       "  <tbody>\n",
       "    <tr>\n",
       "      <th>0</th>\n",
       "      <td>0.398</td>\n",
       "      <td>-0.625</td>\n",
       "      <td>-0.117085</td>\n",
       "      <td>0.093069</td>\n",
       "      <td>0.149567</td>\n",
       "      <td>-0.012753</td>\n",
       "      <td>0.931376</td>\n",
       "      <td>2.661008</td>\n",
       "      <td>-1.277421</td>\n",
       "      <td>Normal</td>\n",
       "    </tr>\n",
       "    <tr>\n",
       "      <th>1</th>\n",
       "      <td>0.422</td>\n",
       "      <td>-0.657</td>\n",
       "      <td>-0.117744</td>\n",
       "      <td>0.093095</td>\n",
       "      <td>0.150100</td>\n",
       "      <td>-0.033307</td>\n",
       "      <td>0.876667</td>\n",
       "      <td>2.811460</td>\n",
       "      <td>-1.274798</td>\n",
       "      <td>Normal</td>\n",
       "    </tr>\n",
       "    <tr>\n",
       "      <th>2</th>\n",
       "      <td>0.466</td>\n",
       "      <td>-0.605</td>\n",
       "      <td>-0.116695</td>\n",
       "      <td>0.091405</td>\n",
       "      <td>0.148230</td>\n",
       "      <td>0.022064</td>\n",
       "      <td>0.946745</td>\n",
       "      <td>3.143757</td>\n",
       "      <td>-1.270240</td>\n",
       "      <td>Normal</td>\n",
       "    </tr>\n",
       "    <tr>\n",
       "      <th>3</th>\n",
       "      <td>0.356</td>\n",
       "      <td>-0.713</td>\n",
       "      <td>-0.117174</td>\n",
       "      <td>0.094340</td>\n",
       "      <td>0.150430</td>\n",
       "      <td>-0.088984</td>\n",
       "      <td>0.858388</td>\n",
       "      <td>2.366546</td>\n",
       "      <td>-1.283821</td>\n",
       "      <td>Normal</td>\n",
       "    </tr>\n",
       "    <tr>\n",
       "      <th>4</th>\n",
       "      <td>0.500</td>\n",
       "      <td>-0.647</td>\n",
       "      <td>-0.117876</td>\n",
       "      <td>0.093033</td>\n",
       "      <td>0.150165</td>\n",
       "      <td>-0.036459</td>\n",
       "      <td>0.957214</td>\n",
       "      <td>3.329671</td>\n",
       "      <td>-1.273921</td>\n",
       "      <td>Normal</td>\n",
       "    </tr>\n",
       "    <tr>\n",
       "      <th>...</th>\n",
       "      <td>...</td>\n",
       "      <td>...</td>\n",
       "      <td>...</td>\n",
       "      <td>...</td>\n",
       "      <td>...</td>\n",
       "      <td>...</td>\n",
       "      <td>...</td>\n",
       "      <td>...</td>\n",
       "      <td>...</td>\n",
       "      <td>...</td>\n",
       "    </tr>\n",
       "    <tr>\n",
       "      <th>2273</th>\n",
       "      <td>0.229</td>\n",
       "      <td>-0.488</td>\n",
       "      <td>-0.118015</td>\n",
       "      <td>0.083851</td>\n",
       "      <td>0.144769</td>\n",
       "      <td>-0.067698</td>\n",
       "      <td>0.233650</td>\n",
       "      <td>1.581825</td>\n",
       "      <td>-1.226706</td>\n",
       "      <td>Roller Element</td>\n",
       "    </tr>\n",
       "    <tr>\n",
       "      <th>2274</th>\n",
       "      <td>0.303</td>\n",
       "      <td>-0.569</td>\n",
       "      <td>-0.117486</td>\n",
       "      <td>0.082563</td>\n",
       "      <td>0.143595</td>\n",
       "      <td>-0.005831</td>\n",
       "      <td>0.369785</td>\n",
       "      <td>2.110106</td>\n",
       "      <td>-1.222223</td>\n",
       "      <td>Roller Element</td>\n",
       "    </tr>\n",
       "    <tr>\n",
       "      <th>2275</th>\n",
       "      <td>0.232</td>\n",
       "      <td>-0.569</td>\n",
       "      <td>-0.116743</td>\n",
       "      <td>0.084937</td>\n",
       "      <td>0.144371</td>\n",
       "      <td>-0.041197</td>\n",
       "      <td>0.247918</td>\n",
       "      <td>1.606971</td>\n",
       "      <td>-1.236654</td>\n",
       "      <td>Roller Element</td>\n",
       "    </tr>\n",
       "    <tr>\n",
       "      <th>2276</th>\n",
       "      <td>0.293</td>\n",
       "      <td>-0.771</td>\n",
       "      <td>-0.117529</td>\n",
       "      <td>0.083075</td>\n",
       "      <td>0.143924</td>\n",
       "      <td>-0.024656</td>\n",
       "      <td>0.533415</td>\n",
       "      <td>2.035792</td>\n",
       "      <td>-1.224588</td>\n",
       "      <td>Roller Element</td>\n",
       "    </tr>\n",
       "    <tr>\n",
       "      <th>2277</th>\n",
       "      <td>0.227</td>\n",
       "      <td>-0.537</td>\n",
       "      <td>-0.117737</td>\n",
       "      <td>0.082736</td>\n",
       "      <td>0.143899</td>\n",
       "      <td>-0.019219</td>\n",
       "      <td>0.263400</td>\n",
       "      <td>1.577499</td>\n",
       "      <td>-1.222208</td>\n",
       "      <td>Roller Element</td>\n",
       "    </tr>\n",
       "  </tbody>\n",
       "</table>\n",
       "<p>2278 rows × 10 columns</p>\n",
       "</div>"
      ],
      "text/plain": [
       "        Max    Min      Mean       Std       RMS  Skewness  Kurtosis  \\\n",
       "0     0.398 -0.625 -0.117085  0.093069  0.149567 -0.012753  0.931376   \n",
       "1     0.422 -0.657 -0.117744  0.093095  0.150100 -0.033307  0.876667   \n",
       "2     0.466 -0.605 -0.116695  0.091405  0.148230  0.022064  0.946745   \n",
       "3     0.356 -0.713 -0.117174  0.094340  0.150430 -0.088984  0.858388   \n",
       "4     0.500 -0.647 -0.117876  0.093033  0.150165 -0.036459  0.957214   \n",
       "...     ...    ...       ...       ...       ...       ...       ...   \n",
       "2273  0.229 -0.488 -0.118015  0.083851  0.144769 -0.067698  0.233650   \n",
       "2274  0.303 -0.569 -0.117486  0.082563  0.143595 -0.005831  0.369785   \n",
       "2275  0.232 -0.569 -0.116743  0.084937  0.144371 -0.041197  0.247918   \n",
       "2276  0.293 -0.771 -0.117529  0.083075  0.143924 -0.024656  0.533415   \n",
       "2277  0.227 -0.537 -0.117737  0.082736  0.143899 -0.019219  0.263400   \n",
       "\n",
       "      Crest Factor  Form Factor           Fault  \n",
       "0         2.661008    -1.277421          Normal  \n",
       "1         2.811460    -1.274798          Normal  \n",
       "2         3.143757    -1.270240          Normal  \n",
       "3         2.366546    -1.283821          Normal  \n",
       "4         3.329671    -1.273921          Normal  \n",
       "...            ...          ...             ...  \n",
       "2273      1.581825    -1.226706  Roller Element  \n",
       "2274      2.110106    -1.222223  Roller Element  \n",
       "2275      1.606971    -1.236654  Roller Element  \n",
       "2276      2.035792    -1.224588  Roller Element  \n",
       "2277      1.577499    -1.222208  Roller Element  \n",
       "\n",
       "[2278 rows x 10 columns]"
      ]
     },
     "execution_count": 3,
     "metadata": {},
     "output_type": "execute_result"
    }
   ],
   "source": [
    "df1=pd.read_csv('Normal_Bearing.csv')\n",
    "df2=pd.read_csv('outer_race_fault_test_2.csv')\n",
    "df3=pd.read_csv('outer_race_fault_test_3.csv')\n",
    "df4=pd.read_csv('inner_race_fault.csv')\n",
    "df5=pd.read_csv('roller_element_fault.csv')\n",
    "# read all the file means load all this files \n",
    "df = pd.concat([df1,df2,df3,df4,df5])# now add all this file and name it to df\n",
    "df = df.reset_index(drop=True)#index ko drop kar do\n",
    "df\n"
   ]
  },
  {
   "cell_type": "code",
   "execution_count": 6,
   "id": "a80ddfe1",
   "metadata": {},
   "outputs": [],
   "source": [
    "df.replace({'Fault':{'Normal':0,'Outer Race':1,'Inner Race':2,'Roller Element':3}},inplace=True)# we dont want strings so convert it"
   ]
  },
  {
   "cell_type": "code",
   "execution_count": 7,
   "id": "69bf5f74",
   "metadata": {},
   "outputs": [
    {
     "data": {
      "text/html": [
       "<div>\n",
       "<style scoped>\n",
       "    .dataframe tbody tr th:only-of-type {\n",
       "        vertical-align: middle;\n",
       "    }\n",
       "\n",
       "    .dataframe tbody tr th {\n",
       "        vertical-align: top;\n",
       "    }\n",
       "\n",
       "    .dataframe thead th {\n",
       "        text-align: right;\n",
       "    }\n",
       "</style>\n",
       "<table border=\"1\" class=\"dataframe\">\n",
       "  <thead>\n",
       "    <tr style=\"text-align: right;\">\n",
       "      <th></th>\n",
       "      <th>Max</th>\n",
       "      <th>Min</th>\n",
       "      <th>Mean</th>\n",
       "      <th>Std</th>\n",
       "      <th>RMS</th>\n",
       "      <th>Skewness</th>\n",
       "      <th>Kurtosis</th>\n",
       "      <th>Crest Factor</th>\n",
       "      <th>Form Factor</th>\n",
       "      <th>Fault</th>\n",
       "    </tr>\n",
       "  </thead>\n",
       "  <tbody>\n",
       "    <tr>\n",
       "      <th>0</th>\n",
       "      <td>0.398</td>\n",
       "      <td>-0.625</td>\n",
       "      <td>-0.117085</td>\n",
       "      <td>0.093069</td>\n",
       "      <td>0.149567</td>\n",
       "      <td>-0.012753</td>\n",
       "      <td>0.931376</td>\n",
       "      <td>2.661008</td>\n",
       "      <td>-1.277421</td>\n",
       "      <td>0</td>\n",
       "    </tr>\n",
       "    <tr>\n",
       "      <th>1</th>\n",
       "      <td>0.422</td>\n",
       "      <td>-0.657</td>\n",
       "      <td>-0.117744</td>\n",
       "      <td>0.093095</td>\n",
       "      <td>0.150100</td>\n",
       "      <td>-0.033307</td>\n",
       "      <td>0.876667</td>\n",
       "      <td>2.811460</td>\n",
       "      <td>-1.274798</td>\n",
       "      <td>0</td>\n",
       "    </tr>\n",
       "    <tr>\n",
       "      <th>2</th>\n",
       "      <td>0.466</td>\n",
       "      <td>-0.605</td>\n",
       "      <td>-0.116695</td>\n",
       "      <td>0.091405</td>\n",
       "      <td>0.148230</td>\n",
       "      <td>0.022064</td>\n",
       "      <td>0.946745</td>\n",
       "      <td>3.143757</td>\n",
       "      <td>-1.270240</td>\n",
       "      <td>0</td>\n",
       "    </tr>\n",
       "    <tr>\n",
       "      <th>3</th>\n",
       "      <td>0.356</td>\n",
       "      <td>-0.713</td>\n",
       "      <td>-0.117174</td>\n",
       "      <td>0.094340</td>\n",
       "      <td>0.150430</td>\n",
       "      <td>-0.088984</td>\n",
       "      <td>0.858388</td>\n",
       "      <td>2.366546</td>\n",
       "      <td>-1.283821</td>\n",
       "      <td>0</td>\n",
       "    </tr>\n",
       "    <tr>\n",
       "      <th>4</th>\n",
       "      <td>0.500</td>\n",
       "      <td>-0.647</td>\n",
       "      <td>-0.117876</td>\n",
       "      <td>0.093033</td>\n",
       "      <td>0.150165</td>\n",
       "      <td>-0.036459</td>\n",
       "      <td>0.957214</td>\n",
       "      <td>3.329671</td>\n",
       "      <td>-1.273921</td>\n",
       "      <td>0</td>\n",
       "    </tr>\n",
       "    <tr>\n",
       "      <th>...</th>\n",
       "      <td>...</td>\n",
       "      <td>...</td>\n",
       "      <td>...</td>\n",
       "      <td>...</td>\n",
       "      <td>...</td>\n",
       "      <td>...</td>\n",
       "      <td>...</td>\n",
       "      <td>...</td>\n",
       "      <td>...</td>\n",
       "      <td>...</td>\n",
       "    </tr>\n",
       "    <tr>\n",
       "      <th>2273</th>\n",
       "      <td>0.229</td>\n",
       "      <td>-0.488</td>\n",
       "      <td>-0.118015</td>\n",
       "      <td>0.083851</td>\n",
       "      <td>0.144769</td>\n",
       "      <td>-0.067698</td>\n",
       "      <td>0.233650</td>\n",
       "      <td>1.581825</td>\n",
       "      <td>-1.226706</td>\n",
       "      <td>3</td>\n",
       "    </tr>\n",
       "    <tr>\n",
       "      <th>2274</th>\n",
       "      <td>0.303</td>\n",
       "      <td>-0.569</td>\n",
       "      <td>-0.117486</td>\n",
       "      <td>0.082563</td>\n",
       "      <td>0.143595</td>\n",
       "      <td>-0.005831</td>\n",
       "      <td>0.369785</td>\n",
       "      <td>2.110106</td>\n",
       "      <td>-1.222223</td>\n",
       "      <td>3</td>\n",
       "    </tr>\n",
       "    <tr>\n",
       "      <th>2275</th>\n",
       "      <td>0.232</td>\n",
       "      <td>-0.569</td>\n",
       "      <td>-0.116743</td>\n",
       "      <td>0.084937</td>\n",
       "      <td>0.144371</td>\n",
       "      <td>-0.041197</td>\n",
       "      <td>0.247918</td>\n",
       "      <td>1.606971</td>\n",
       "      <td>-1.236654</td>\n",
       "      <td>3</td>\n",
       "    </tr>\n",
       "    <tr>\n",
       "      <th>2276</th>\n",
       "      <td>0.293</td>\n",
       "      <td>-0.771</td>\n",
       "      <td>-0.117529</td>\n",
       "      <td>0.083075</td>\n",
       "      <td>0.143924</td>\n",
       "      <td>-0.024656</td>\n",
       "      <td>0.533415</td>\n",
       "      <td>2.035792</td>\n",
       "      <td>-1.224588</td>\n",
       "      <td>3</td>\n",
       "    </tr>\n",
       "    <tr>\n",
       "      <th>2277</th>\n",
       "      <td>0.227</td>\n",
       "      <td>-0.537</td>\n",
       "      <td>-0.117737</td>\n",
       "      <td>0.082736</td>\n",
       "      <td>0.143899</td>\n",
       "      <td>-0.019219</td>\n",
       "      <td>0.263400</td>\n",
       "      <td>1.577499</td>\n",
       "      <td>-1.222208</td>\n",
       "      <td>3</td>\n",
       "    </tr>\n",
       "  </tbody>\n",
       "</table>\n",
       "<p>2278 rows × 10 columns</p>\n",
       "</div>"
      ],
      "text/plain": [
       "        Max    Min      Mean       Std       RMS  Skewness  Kurtosis  \\\n",
       "0     0.398 -0.625 -0.117085  0.093069  0.149567 -0.012753  0.931376   \n",
       "1     0.422 -0.657 -0.117744  0.093095  0.150100 -0.033307  0.876667   \n",
       "2     0.466 -0.605 -0.116695  0.091405  0.148230  0.022064  0.946745   \n",
       "3     0.356 -0.713 -0.117174  0.094340  0.150430 -0.088984  0.858388   \n",
       "4     0.500 -0.647 -0.117876  0.093033  0.150165 -0.036459  0.957214   \n",
       "...     ...    ...       ...       ...       ...       ...       ...   \n",
       "2273  0.229 -0.488 -0.118015  0.083851  0.144769 -0.067698  0.233650   \n",
       "2274  0.303 -0.569 -0.117486  0.082563  0.143595 -0.005831  0.369785   \n",
       "2275  0.232 -0.569 -0.116743  0.084937  0.144371 -0.041197  0.247918   \n",
       "2276  0.293 -0.771 -0.117529  0.083075  0.143924 -0.024656  0.533415   \n",
       "2277  0.227 -0.537 -0.117737  0.082736  0.143899 -0.019219  0.263400   \n",
       "\n",
       "      Crest Factor  Form Factor  Fault  \n",
       "0         2.661008    -1.277421      0  \n",
       "1         2.811460    -1.274798      0  \n",
       "2         3.143757    -1.270240      0  \n",
       "3         2.366546    -1.283821      0  \n",
       "4         3.329671    -1.273921      0  \n",
       "...            ...          ...    ...  \n",
       "2273      1.581825    -1.226706      3  \n",
       "2274      2.110106    -1.222223      3  \n",
       "2275      1.606971    -1.236654      3  \n",
       "2276      2.035792    -1.224588      3  \n",
       "2277      1.577499    -1.222208      3  \n",
       "\n",
       "[2278 rows x 10 columns]"
      ]
     },
     "execution_count": 7,
     "metadata": {},
     "output_type": "execute_result"
    }
   ],
   "source": [
    "df"
   ]
  },
  {
   "cell_type": "code",
   "execution_count": 8,
   "id": "063a85f9",
   "metadata": {},
   "outputs": [],
   "source": [
    "correlation =df.corr() # correlate all the feature"
   ]
  },
  {
   "cell_type": "code",
   "execution_count": 12,
   "id": "908849d6",
   "metadata": {},
   "outputs": [
    {
     "data": {
      "text/plain": [
       "<Axes: >"
      ]
     },
     "execution_count": 12,
     "metadata": {},
     "output_type": "execute_result"
    },
    {
     "data": {
      "image/png": "[encoded data removed]",
      "text/plain": [
       "<Figure size 1000x1000 with 2 Axes>"
      ]
     },
     "metadata": {},
     "output_type": "display_data"
    }
   ],
   "source": [
    "plt.figure(figsize=(10,10))#plot it to 10/10 fig \n",
    "sns.heatmap(correlation, cbar=True, square=True, fmt = '.1f', annot = True, annot_kws={'size':8}, cmap = 'Blues')#make the heat mape"
   ]
  },
  {
   "cell_type": "code",
   "execution_count": 16,
   "id": "a9f9b57d",
   "metadata": {},
   "outputs": [],
   "source": [
    "#seprate data and target\n",
    "X = df.iloc[:,:-1]#exept last colume \n",
    "Y = df.iloc[:,-1]# only last colume "
   ]
  },
  {
   "cell_type": "code",
   "execution_count": 17,
   "id": "023c6089",
   "metadata": {},
   "outputs": [
    {
     "name": "stdout",
     "output_type": "stream",
     "text": [
      "        Max    Min      Mean       Std       RMS  Skewness  Kurtosis  \\\n",
      "0     0.398 -0.625 -0.117085  0.093069  0.149567 -0.012753  0.931376   \n",
      "1     0.422 -0.657 -0.117744  0.093095  0.150100 -0.033307  0.876667   \n",
      "2     0.466 -0.605 -0.116695  0.091405  0.148230  0.022064  0.946745   \n",
      "3     0.356 -0.713 -0.117174  0.094340  0.150430 -0.088984  0.858388   \n",
      "4     0.500 -0.647 -0.117876  0.093033  0.150165 -0.036459  0.957214   \n",
      "...     ...    ...       ...       ...       ...       ...       ...   \n",
      "2273  0.229 -0.488 -0.118015  0.083851  0.144769 -0.067698  0.233650   \n",
      "2274  0.303 -0.569 -0.117486  0.082563  0.143595 -0.005831  0.369785   \n",
      "2275  0.232 -0.569 -0.116743  0.084937  0.144371 -0.041197  0.247918   \n",
      "2276  0.293 -0.771 -0.117529  0.083075  0.143924 -0.024656  0.533415   \n",
      "2277  0.227 -0.537 -0.117737  0.082736  0.143899 -0.019219  0.263400   \n",
      "\n",
      "      Crest Factor  Form Factor  \n",
      "0         2.661008    -1.277421  \n",
      "1         2.811460    -1.274798  \n",
      "2         3.143757    -1.270240  \n",
      "3         2.366546    -1.283821  \n",
      "4         3.329671    -1.273921  \n",
      "...            ...          ...  \n",
      "2273      1.581825    -1.226706  \n",
      "2274      2.110106    -1.222223  \n",
      "2275      1.606971    -1.236654  \n",
      "2276      2.035792    -1.224588  \n",
      "2277      1.577499    -1.222208  \n",
      "\n",
      "[2278 rows x 9 columns]\n"
     ]
    }
   ],
   "source": [
    "print(X)"
   ]
  },
  {
   "cell_type": "code",
   "execution_count": 18,
   "id": "e169bad0",
   "metadata": {},
   "outputs": [
    {
     "name": "stdout",
     "output_type": "stream",
     "text": [
      "0       0\n",
      "1       0\n",
      "2       0\n",
      "3       0\n",
      "4       0\n",
      "       ..\n",
      "2273    3\n",
      "2274    3\n",
      "2275    3\n",
      "2276    3\n",
      "2277    3\n",
      "Name: Fault, Length: 2278, dtype: int64\n"
     ]
    }
   ],
   "source": [
    "print(Y)"
   ]
  },
  {
   "cell_type": "code",
   "execution_count": 19,
   "id": "bf7f2bb8",
   "metadata": {},
   "outputs": [],
   "source": [
    "X_train, X_test, Y_train, Y_test = train_test_split(X, Y, test_size=0.2, random_state=3) # seprate test train data"
   ]
  },
  {
   "cell_type": "code",
   "execution_count": 20,
   "id": "921fa911",
   "metadata": {},
   "outputs": [
    {
     "name": "stdout",
     "output_type": "stream",
     "text": [
      "(2278,) (1822,) (456,)\n"
     ]
    }
   ],
   "source": [
    "print(Y.shape, Y_train.shape, Y_test.shape)#just see the number of rows"
   ]
  },
  {
   "cell_type": "code",
   "execution_count": 21,
   "id": "ece40fe2",
   "metadata": {},
   "outputs": [],
   "source": [
    "model = RandomForestClassifier()#load the model"
   ]
  },
  {
   "cell_type": "code",
   "execution_count": 22,
   "id": "3776f455",
   "metadata": {},
   "outputs": [
    {
     "data": {
      "text/html": [
       "<style>#sk-container-id-1 {color: black;}#sk-container-id-1 pre{padding: 0;}#sk-container-id-1 div.sk-toggleable {background-color: white;}#sk-container-id-1 label.sk-toggleable__label {cursor: pointer;display: block;width: 100%;margin-bottom: 0;padding: 0.3em;box-sizing: border-box;text-align: center;}#sk-container-id-1 label.sk-toggleable__label-arrow:before {content: \"▸\";float: left;margin-right: 0.25em;color: #696969;}#sk-container-id-1 label.sk-toggleable__label-arrow:hover:before {color: black;}#sk-container-id-1 div.sk-estimator:hover label.sk-toggleable__label-arrow:before {color: black;}#sk-container-id-1 div.sk-toggleable__content {max-height: 0;max-width: 0;overflow: hidden;text-align: left;background-color: #f0f8ff;}#sk-container-id-1 div.sk-toggleable__content pre {margin: 0.2em;color: black;border-radius: 0.25em;background-color: #f0f8ff;}#sk-container-id-1 input.sk-toggleable__control:checked~div.sk-toggleable__content {max-height: 200px;max-width: 100%;overflow: auto;}#sk-container-id-1 input.sk-toggleable__control:checked~label.sk-toggleable__label-arrow:before {content: \"▾\";}#sk-container-id-1 div.sk-estimator input.sk-toggleable__control:checked~label.sk-toggleable__label {background-color: #d4ebff;}#sk-container-id-1 div.sk-label input.sk-toggleable__control:checked~label.sk-toggleable__label {background-color: #d4ebff;}#sk-container-id-1 input.sk-hidden--visually {border: 0;clip: rect(1px 1px 1px 1px);clip: rect(1px, 1px, 1px, 1px);height: 1px;margin: -1px;overflow: hidden;padding: 0;position: absolute;width: 1px;}#sk-container-id-1 div.sk-estimator {font-family: monospace;background-color: #f0f8ff;border: 1px dotted black;border-radius: 0.25em;box-sizing: border-box;margin-bottom: 0.5em;}#sk-container-id-1 div.sk-estimator:hover {background-color: #d4ebff;}#sk-container-id-1 div.sk-parallel-item::after {content: \"\";width: 100%;border-bottom: 1px solid gray;flex-grow: 1;}#sk-container-id-1 div.sk-label:hover label.sk-toggleable__label {background-color: #d4ebff;}#sk-container-id-1 div.sk-serial::before {content: \"\";position: absolute;border-left: 1px solid gray;box-sizing: border-box;top: 0;bottom: 0;left: 50%;z-index: 0;}#sk-container-id-1 div.sk-serial {display: flex;flex-direction: column;align-items: center;background-color: white;padding-right: 0.2em;padding-left: 0.2em;position: relative;}#sk-container-id-1 div.sk-item {position: relative;z-index: 1;}#sk-container-id-1 div.sk-parallel {display: flex;align-items: stretch;justify-content: center;background-color: white;position: relative;}#sk-container-id-1 div.sk-item::before, #sk-container-id-1 div.sk-parallel-item::before {content: \"\";position: absolute;border-left: 1px solid gray;box-sizing: border-box;top: 0;bottom: 0;left: 50%;z-index: -1;}#sk-container-id-1 div.sk-parallel-item {display: flex;flex-direction: column;z-index: 1;position: relative;background-color: white;}#sk-container-id-1 div.sk-parallel-item:first-child::after {align-self: flex-end;width: 50%;}#sk-container-id-1 div.sk-parallel-item:last-child::after {align-self: flex-start;width: 50%;}#sk-container-id-1 div.sk-parallel-item:only-child::after {width: 0;}#sk-container-id-1 div.sk-dashed-wrapped {border: 1px dashed gray;margin: 0 0.4em 0.5em 0.4em;box-sizing: border-box;padding-bottom: 0.4em;background-color: white;}#sk-container-id-1 div.sk-label label {font-family: monospace;font-weight: bold;display: inline-block;line-height: 1.2em;}#sk-container-id-1 div.sk-label-container {text-align: center;}#sk-container-id-1 div.sk-container {/* jupyter's `normalize.less` sets `[hidden] { display: none; }` but bootstrap.min.css set `[hidden] { display: none !important; }` so we also need the `!important` here to be able to override the default hidden behavior on the sphinx rendered scikit-learn.org. See: https://github.com/scikit-learn/scikit-learn/issues/21755 */display: inline-block !important;position: relative;}#sk-container-id-1 div.sk-text-repr-fallback {display: none;}</style><div id=\"sk-container-id-1\" class=\"sk-top-container\"><div class=\"sk-text-repr-fallback\"><pre>RandomForestClassifier()</pre><b>In a Jupyter environment, please rerun this cell to show the HTML representation or trust the notebook. <br />On GitHub, the HTML representation is unable to render, please try loading this page with nbviewer.org.</b></div><div class=\"sk-container\" hidden><div class=\"sk-item\"><div class=\"sk-estimator sk-toggleable\"><input class=\"sk-toggleable__control sk-hidden--visually\" id=\"sk-estimator-id-1\" type=\"checkbox\" checked><label for=\"sk-estimator-id-1\" class=\"sk-toggleable__label sk-toggleable__label-arrow\">RandomForestClassifier</label><div class=\"sk-toggleable__content\"><pre>RandomForestClassifier()</pre></div></div></div></div></div>"
      ],
      "text/plain": [
       "RandomForestClassifier()"
      ]
     },
     "execution_count": 22,
     "metadata": {},
     "output_type": "execute_result"
    }
   ],
   "source": [
    "model.fit(X_train, Y_train)# fit it to train data"
   ]
  },
  {
   "cell_type": "code",
   "execution_count": 23,
   "id": "3551cdb3",
   "metadata": {},
   "outputs": [],
   "source": [
    "X_test_prediction = model.predict(X_test)#predict for test data\n",
    "test_data_accuracy = accuracy_score(X_test_prediction, Y_test)#find the accuray of the prediction"
   ]
  },
  {
   "cell_type": "code",
   "execution_count": 24,
   "id": "e6d32e66",
   "metadata": {},
   "outputs": [
    {
     "name": "stdout",
     "output_type": "stream",
     "text": [
      "Accuracy :  0.9605263157894737\n"
     ]
    }
   ],
   "source": [
    "print('Accuracy : ', test_data_accuracy)"
   ]
  },
  {
   "cell_type": "code",
   "execution_count": 30,
   "id": "2c4ea69a",
   "metadata": {},
   "outputs": [
    {
     "name": "stdout",
     "output_type": "stream",
     "text": [
      "[0]\n",
      "Normal condition\n"
     ]
    },
    {
     "name": "stderr",
     "output_type": "stream",
     "text": [
      "C:\\Users\\sujal\\OneDrive\\Desktop\\New folder\\Lib\\site-packages\\sklearn\\base.py:464: UserWarning: X does not have valid feature names, but RandomForestClassifier was fitted with feature names\n",
      "  warnings.warn(\n"
     ]
    }
   ],
   "source": [
    "input_data = (0.415,-0.322,-0.0018599121093749,0.0764453967285313,0.0764661533452669,0.0028535655331329,0.3502194854518827,5.427237828038169,-41.11277783494964)\n",
    "# changing the input data to a numpy array\n",
    "input_data_as_numpy_array = np.asarray(input_data)\n",
    "\n",
    "# reshape the data as we are predicting the label for only one instance\n",
    "input_data_reshaped = input_data_as_numpy_array.reshape(1,-1)\n",
    "\n",
    "prediction = model.predict(input_data_reshaped)\n",
    "print(prediction)\n",
    "\n",
    "if (prediction[0]==0):\n",
    "  print('Normal condition')\n",
    "elif (prediction[0]==1):\n",
    "  print('Outer Race Condition')\n",
    "elif (prediction[0]==2):\n",
    "  print('Inner Race condition')\n",
    "else:\n",
    "  print('Roller Race condition')"
   ]
  },
  {
   "cell_type": "code",
   "execution_count": null,
   "id": "c6ed6416",
   "metadata": {},
   "outputs": [],
   "source": []
  }
 ],
 "metadata": {
  "kernelspec": {
   "display_name": "Python 3 (ipykernel)",
   "language": "python",
   "name": "python3"
  },
  "language_info": {
   "codemirror_mode": {
    "name": "ipython",
    "version": 3
   },
   "file_extension": ".py",
   "mimetype": "text/x-python",
   "name": "python",
   "nbconvert_exporter": "python",
   "pygments_lexer": "ipython3",
   "version": "3.11.5"
  }
 },
 "nbformat": 4,
 "nbformat_minor": 5
}
